{
 "cells": [
  {
   "cell_type": "markdown",
   "source": [
    "ToDo\n",
    "- add docfile\n",
    "- Add Documentation\n",
    "- Do OOP-API"
   ],
   "metadata": {
    "collapsed": false
   }
  },
  {
   "cell_type": "code",
   "execution_count": 76,
   "outputs": [],
   "source": [
    "import pandas as pd\n",
    "import seaborn as sns\n",
    "import matplotlib.pyplot as plt\n"
   ],
   "metadata": {
    "collapsed": false,
    "pycharm": {
     "name": "#%%\n"
    }
   }
  },
  {
   "cell_type": "code",
   "execution_count": 77,
   "outputs": [
    {
     "data": {
      "text/plain": "'/home/jonas'"
     },
     "execution_count": 77,
     "metadata": {},
     "output_type": "execute_result"
    }
   ],
   "source": [
    "# Getting path from remote server (Digitalocean Droplet)\n",
    "import os\n",
    "os.getcwd()"
   ],
   "metadata": {
    "collapsed": false,
    "pycharm": {
     "name": "#%%\n"
    }
   }
  },
  {
   "cell_type": "code",
   "execution_count": 78,
   "outputs": [],
   "source": [
    "train = pd.read_csv('Pycharmprojects/HelloFoodFreak/meal_delivery/train_GzS76OK/train.csv')\n",
    "warehouses = pd.read_csv('Pycharmprojects/HelloFoodFreak/meal_delivery/train_GzS76OK/fulfilment_center_info.csv')\n",
    "meals = pd.read_csv('Pycharmprojects/HelloFoodFreak/meal_delivery/train_GzS76OK/meal_info.csv')\n",
    "\n",
    "merge_1 = train.merge(warehouses, on='center_id')\n",
    "df = merge_1.merge(meals, on='meal_id')\n",
    "\n",
    "df.set_index('id', inplace=True)"
   ],
   "metadata": {
    "collapsed": false,
    "pycharm": {
     "name": "#%%\n"
    }
   }
  },
  {
   "cell_type": "code",
   "execution_count": 79,
   "outputs": [
    {
     "data": {
      "text/plain": "id                       1379560    1018704    1196273    1116527    1343872\nweek                           1          2          3          4          5\ncenter_id                     55         55         55         55         55\nmeal_id                     1885       1885       1885       1885       1885\ncheckout_price            136.83     135.83     132.92     135.86      146.5\nbase_price                152.29     152.29     133.92     134.86      147.5\nemailer_for_promotion          0          0          0          0          0\nhomepage_featured              0          0          0          0          0\nnum_orders                   177        323         96        163        215\ncity_code                    647        647        647        647        647\nregion_code                   56         56         56         56         56\ncenter_type               TYPE_C     TYPE_C     TYPE_C     TYPE_C     TYPE_C\nop_area                        2          2          2          2          2\ncategory               Beverages  Beverages  Beverages  Beverages  Beverages\ncuisine                     Thai       Thai       Thai       Thai       Thai",
      "text/html": "<div>\n<style scoped>\n    .dataframe tbody tr th:only-of-type {\n        vertical-align: middle;\n    }\n\n    .dataframe tbody tr th {\n        vertical-align: top;\n    }\n\n    .dataframe thead th {\n        text-align: right;\n    }\n</style>\n<table border=\"1\" class=\"dataframe\">\n  <thead>\n    <tr style=\"text-align: right;\">\n      <th>id</th>\n      <th>1379560</th>\n      <th>1018704</th>\n      <th>1196273</th>\n      <th>1116527</th>\n      <th>1343872</th>\n    </tr>\n  </thead>\n  <tbody>\n    <tr>\n      <th>week</th>\n      <td>1</td>\n      <td>2</td>\n      <td>3</td>\n      <td>4</td>\n      <td>5</td>\n    </tr>\n    <tr>\n      <th>center_id</th>\n      <td>55</td>\n      <td>55</td>\n      <td>55</td>\n      <td>55</td>\n      <td>55</td>\n    </tr>\n    <tr>\n      <th>meal_id</th>\n      <td>1885</td>\n      <td>1885</td>\n      <td>1885</td>\n      <td>1885</td>\n      <td>1885</td>\n    </tr>\n    <tr>\n      <th>checkout_price</th>\n      <td>136.83</td>\n      <td>135.83</td>\n      <td>132.92</td>\n      <td>135.86</td>\n      <td>146.5</td>\n    </tr>\n    <tr>\n      <th>base_price</th>\n      <td>152.29</td>\n      <td>152.29</td>\n      <td>133.92</td>\n      <td>134.86</td>\n      <td>147.5</td>\n    </tr>\n    <tr>\n      <th>emailer_for_promotion</th>\n      <td>0</td>\n      <td>0</td>\n      <td>0</td>\n      <td>0</td>\n      <td>0</td>\n    </tr>\n    <tr>\n      <th>homepage_featured</th>\n      <td>0</td>\n      <td>0</td>\n      <td>0</td>\n      <td>0</td>\n      <td>0</td>\n    </tr>\n    <tr>\n      <th>num_orders</th>\n      <td>177</td>\n      <td>323</td>\n      <td>96</td>\n      <td>163</td>\n      <td>215</td>\n    </tr>\n    <tr>\n      <th>city_code</th>\n      <td>647</td>\n      <td>647</td>\n      <td>647</td>\n      <td>647</td>\n      <td>647</td>\n    </tr>\n    <tr>\n      <th>region_code</th>\n      <td>56</td>\n      <td>56</td>\n      <td>56</td>\n      <td>56</td>\n      <td>56</td>\n    </tr>\n    <tr>\n      <th>center_type</th>\n      <td>TYPE_C</td>\n      <td>TYPE_C</td>\n      <td>TYPE_C</td>\n      <td>TYPE_C</td>\n      <td>TYPE_C</td>\n    </tr>\n    <tr>\n      <th>op_area</th>\n      <td>2</td>\n      <td>2</td>\n      <td>2</td>\n      <td>2</td>\n      <td>2</td>\n    </tr>\n    <tr>\n      <th>category</th>\n      <td>Beverages</td>\n      <td>Beverages</td>\n      <td>Beverages</td>\n      <td>Beverages</td>\n      <td>Beverages</td>\n    </tr>\n    <tr>\n      <th>cuisine</th>\n      <td>Thai</td>\n      <td>Thai</td>\n      <td>Thai</td>\n      <td>Thai</td>\n      <td>Thai</td>\n    </tr>\n  </tbody>\n</table>\n</div>"
     },
     "execution_count": 79,
     "metadata": {},
     "output_type": "execute_result"
    }
   ],
   "source": [
    "df.head().T"
   ],
   "metadata": {
    "collapsed": false,
    "pycharm": {
     "name": "#%%\n"
    }
   }
  },
  {
   "cell_type": "code",
   "execution_count": 80,
   "outputs": [
    {
     "data": {
      "text/plain": "                          count         mean         std      min      25%  \\\nweek                   456548.0    74.768771   41.524956     1.00    39.00   \ncenter_id              456548.0    82.105796   45.975046    10.00    43.00   \nmeal_id                456548.0  2024.337458  547.420920  1062.00  1558.00   \ncheckout_price         456548.0   332.238933  152.939723     2.97   228.95   \nbase_price             456548.0   354.156627  160.715914    55.35   243.50   \nemailer_for_promotion  456548.0     0.081152    0.273069     0.00     0.00   \nhomepage_featured      456548.0     0.109200    0.311890     0.00     0.00   \nnum_orders             456548.0   261.872760  395.922798    13.00    54.00   \ncity_code              456548.0   601.553399   66.195914   456.00   553.00   \nregion_code            456548.0    56.614566   17.641306    23.00    34.00   \nop_area                456548.0     4.083590    1.091686     0.90     3.60   \n\n                           50%      75%       max  \nweek                     76.00   111.00    145.00  \ncenter_id                76.00   110.00    186.00  \nmeal_id                1993.00  2539.00   2956.00  \ncheckout_price          296.82   445.23    866.27  \nbase_price              310.46   458.87    866.27  \nemailer_for_promotion     0.00     0.00      1.00  \nhomepage_featured         0.00     0.00      1.00  \nnum_orders              136.00   324.00  24299.00  \ncity_code               596.00   651.00    713.00  \nregion_code              56.00    77.00     93.00  \nop_area                   4.00     4.50      7.00  ",
      "text/html": "<div>\n<style scoped>\n    .dataframe tbody tr th:only-of-type {\n        vertical-align: middle;\n    }\n\n    .dataframe tbody tr th {\n        vertical-align: top;\n    }\n\n    .dataframe thead th {\n        text-align: right;\n    }\n</style>\n<table border=\"1\" class=\"dataframe\">\n  <thead>\n    <tr style=\"text-align: right;\">\n      <th></th>\n      <th>count</th>\n      <th>mean</th>\n      <th>std</th>\n      <th>min</th>\n      <th>25%</th>\n      <th>50%</th>\n      <th>75%</th>\n      <th>max</th>\n    </tr>\n  </thead>\n  <tbody>\n    <tr>\n      <th>week</th>\n      <td>456548.0</td>\n      <td>74.768771</td>\n      <td>41.524956</td>\n      <td>1.00</td>\n      <td>39.00</td>\n      <td>76.00</td>\n      <td>111.00</td>\n      <td>145.00</td>\n    </tr>\n    <tr>\n      <th>center_id</th>\n      <td>456548.0</td>\n      <td>82.105796</td>\n      <td>45.975046</td>\n      <td>10.00</td>\n      <td>43.00</td>\n      <td>76.00</td>\n      <td>110.00</td>\n      <td>186.00</td>\n    </tr>\n    <tr>\n      <th>meal_id</th>\n      <td>456548.0</td>\n      <td>2024.337458</td>\n      <td>547.420920</td>\n      <td>1062.00</td>\n      <td>1558.00</td>\n      <td>1993.00</td>\n      <td>2539.00</td>\n      <td>2956.00</td>\n    </tr>\n    <tr>\n      <th>checkout_price</th>\n      <td>456548.0</td>\n      <td>332.238933</td>\n      <td>152.939723</td>\n      <td>2.97</td>\n      <td>228.95</td>\n      <td>296.82</td>\n      <td>445.23</td>\n      <td>866.27</td>\n    </tr>\n    <tr>\n      <th>base_price</th>\n      <td>456548.0</td>\n      <td>354.156627</td>\n      <td>160.715914</td>\n      <td>55.35</td>\n      <td>243.50</td>\n      <td>310.46</td>\n      <td>458.87</td>\n      <td>866.27</td>\n    </tr>\n    <tr>\n      <th>emailer_for_promotion</th>\n      <td>456548.0</td>\n      <td>0.081152</td>\n      <td>0.273069</td>\n      <td>0.00</td>\n      <td>0.00</td>\n      <td>0.00</td>\n      <td>0.00</td>\n      <td>1.00</td>\n    </tr>\n    <tr>\n      <th>homepage_featured</th>\n      <td>456548.0</td>\n      <td>0.109200</td>\n      <td>0.311890</td>\n      <td>0.00</td>\n      <td>0.00</td>\n      <td>0.00</td>\n      <td>0.00</td>\n      <td>1.00</td>\n    </tr>\n    <tr>\n      <th>num_orders</th>\n      <td>456548.0</td>\n      <td>261.872760</td>\n      <td>395.922798</td>\n      <td>13.00</td>\n      <td>54.00</td>\n      <td>136.00</td>\n      <td>324.00</td>\n      <td>24299.00</td>\n    </tr>\n    <tr>\n      <th>city_code</th>\n      <td>456548.0</td>\n      <td>601.553399</td>\n      <td>66.195914</td>\n      <td>456.00</td>\n      <td>553.00</td>\n      <td>596.00</td>\n      <td>651.00</td>\n      <td>713.00</td>\n    </tr>\n    <tr>\n      <th>region_code</th>\n      <td>456548.0</td>\n      <td>56.614566</td>\n      <td>17.641306</td>\n      <td>23.00</td>\n      <td>34.00</td>\n      <td>56.00</td>\n      <td>77.00</td>\n      <td>93.00</td>\n    </tr>\n    <tr>\n      <th>op_area</th>\n      <td>456548.0</td>\n      <td>4.083590</td>\n      <td>1.091686</td>\n      <td>0.90</td>\n      <td>3.60</td>\n      <td>4.00</td>\n      <td>4.50</td>\n      <td>7.00</td>\n    </tr>\n  </tbody>\n</table>\n</div>"
     },
     "execution_count": 80,
     "metadata": {},
     "output_type": "execute_result"
    }
   ],
   "source": [
    "df.describe().T"
   ],
   "metadata": {
    "collapsed": false,
    "pycharm": {
     "name": "#%%\n"
    }
   }
  },
  {
   "cell_type": "markdown",
   "source": [
    "# Yay, no Null-values\n",
    "sns.heatmap(df.isnull())"
   ],
   "metadata": {
    "collapsed": false
   }
  },
  {
   "cell_type": "markdown",
   "source": [
    "# Outliers seem quite ok, except for num_orders, which seems to have many. Needs further exploration\n",
    "for column in df.columns.drop(['homepage_featured', 'emailer_for_promotion', 'center_id']):\n",
    "    plt.figure()\n",
    "    df.boxplot(column = column)"
   ],
   "metadata": {
    "collapsed": false
   }
  },
  {
   "cell_type": "code",
   "execution_count": 81,
   "outputs": [
    {
     "data": {
      "text/plain": "<matplotlib.axes._subplots.AxesSubplot at 0x7f950eeba9a0>"
     },
     "execution_count": 81,
     "metadata": {},
     "output_type": "execute_result"
    },
    {
     "data": {
      "text/plain": "<Figure size 432x288 with 1 Axes>",
      "image/png": "[encoded data removed]"
     },
     "metadata": {
      "needs_background": "light"
     },
     "output_type": "display_data"
    }
   ],
   "source": [
    "sns.distplot(df['num_orders'])"
   ],
   "metadata": {
    "collapsed": false,
    "pycharm": {
     "name": "#%%\n"
    }
   }
  },
  {
   "cell_type": "code",
   "execution_count": 82,
   "outputs": [
    {
     "data": {
      "text/plain": "week                       int64\ncenter_id                  int64\nmeal_id                    int64\ncheckout_price           float64\nbase_price               float64\nemailer_for_promotion      int64\nhomepage_featured          int64\nnum_orders                 int64\ncity_code                  int64\nregion_code                int64\ncenter_type               object\nop_area                  float64\ncategory                  object\ncuisine                   object\ndtype: object"
     },
     "execution_count": 82,
     "metadata": {},
     "output_type": "execute_result"
    }
   ],
   "source": [
    "df.dtypes"
   ],
   "metadata": {
    "collapsed": false,
    "pycharm": {
     "name": "#%%\n"
    }
   }
  },
  {
   "cell_type": "code",
   "execution_count": 83,
   "outputs": [],
   "source": [
    "nominal_cols = ['center_id', 'meal_id', 'emailer_for_promotion','homepage_featured'] \\\n",
    "               + ['city_code', 'region_code','center_type'] \\\n",
    "               + ['category','cuisine']\n",
    "df = pd.get_dummies(data= df, columns=nominal_cols)"
   ],
   "metadata": {
    "collapsed": false,
    "pycharm": {
     "name": "#%%\n"
    }
   }
  },
  {
   "cell_type": "code",
   "source": [
    "# Would of course never do this in a real production environment, but this is a\n",
    "\n",
    "df = df.sample(20000, random_state=0)"
   ],
   "metadata": {
    "collapsed": false,
    "pycharm": {
     "name": "#%% \n"
    }
   },
   "execution_count": 84,
   "outputs": []
  },
  {
   "cell_type": "code",
   "execution_count": 85,
   "outputs": [],
   "source": [
    "X = df.drop('num_orders',axis=1)\n",
    "y = df['num_orders']\n"
   ],
   "metadata": {
    "collapsed": false,
    "pycharm": {
     "name": "#%%\n"
    }
   }
  },
  {
   "cell_type": "code",
   "execution_count": 86,
   "outputs": [
    {
     "name": "stdout",
     "output_type": "stream",
     "text": [
      "Model Accuracy: -0.0018648120839293014\n",
      "$ 223.93012321875\n"
     ]
    }
   ],
   "source": [
    "from sklearn.model_selection import train_test_split\n",
    "X_train, X_test, y_train, y_test = train_test_split(X, y, test_size=0.2, random_state=0)\n",
    "\n",
    "from sklearn.dummy import DummyRegressor\n",
    "from sklearn.metrics import mean_absolute_error\n",
    "from sklearn.metrics import r2_score\n",
    "dummy_median = DummyRegressor(strategy='mean')\n",
    "dummy_regressor = dummy_median.fit(X_train,y_train)\n",
    "dummy_predicts = dummy_regressor.predict(X_test)\n",
    "print(\"Model Accuracy:\", dummy_regressor.score(X_test,y_test)*100)\n",
    "print('$',mean_absolute_error(y_test,dummy_predicts))"
   ],
   "metadata": {
    "collapsed": false,
    "pycharm": {
     "name": "#%%\n"
    }
   }
  },
  {
   "cell_type": "code",
   "execution_count": 87,
   "outputs": [],
   "source": [
    "from sklearn.tree import DecisionTreeRegressor\n",
    "from sklearn.ensemble import RandomForestRegressor\n",
    "from sklearn.ensemble import GradientBoostingRegressor\n",
    "models = [\n",
    "          DecisionTreeRegressor(criterion='mse',max_depth=11),\n",
    "          GradientBoostingRegressor(n_estimators=200,max_depth=12, verbose=0),\n",
    "            RandomForestRegressor(min_samples_leaf =1, n_estimators=100,criterion='mse',max_depth=20,verbose=0)]\n",
    "learning_mods = pd.DataFrame()\n",
    "temp = {}"
   ],
   "metadata": {
    "collapsed": false,
    "pycharm": {
     "name": "#%%\n"
    }
   }
  },
  {
   "cell_type": "code",
   "execution_count": 88,
   "outputs": [
    {
     "name": "stdout",
     "output_type": "stream",
     "text": [
      "DecisionTreeRegressor(max_depth=11)\n",
      "score on training 0.8551479931494915\n",
      "r2 score 0.5744795454484299 \n",
      "\n",
      "GradientBoostingRegressor(max_depth=12, n_estimators=200)\n",
      "score on training 0.9948260088118958\n",
      "r2 score 0.7098360573883276 \n",
      "\n",
      "RandomForestRegressor(max_depth=20)\n",
      "score on training 0.9539563598631189\n",
      "r2 score 0.699594523134887 \n",
      "\n"
     ]
    },
    {
     "data": {
      "text/plain": "<Figure size 2160x864 with 1 Axes>",
      "image/png": "[encoded data removed]"
     },
     "metadata": {
      "needs_background": "light"
     },
     "output_type": "display_data"
    }
   ],
   "source": [
    "#run through models\n",
    "for model in models:\n",
    "    print(model)\n",
    "    m = str(model)\n",
    "    temp['Model'] = m[:m.index('(')]\n",
    "    model.fit(X_train, y_train)\n",
    "    temp['R2_Price'] = r2_score(y_test, model.predict(X_test))\n",
    "    print('score on training',model.score(X_train, y_train))\n",
    "    print('r2 score',r2_score(y_test, model.predict(X_test)),'\\n')\n",
    "    learning_mods = learning_mods.append([temp])\n",
    "learning_mods.set_index('Model', inplace=True)\n",
    "\n",
    "fig, axes = plt.subplots(ncols=1, figsize=(30, 12))\n",
    "learning_mods.R2_Price.plot(ax=axes, kind='bar', title='R2_Price')\n",
    "plt.show()"
   ],
   "metadata": {
    "collapsed": false,
    "pycharm": {
     "name": "#%%\n"
    }
   }
  },
  {
   "cell_type": "code",
   "execution_count": 89,
   "outputs": [],
   "source": [
    "# Feature importance of the last trained model\n",
    "\n",
    "regressionTree_imp = model.feature_importances_\n"
   ],
   "metadata": {
    "collapsed": false,
    "pycharm": {
     "name": "#%%\n"
    }
   }
  },
  {
   "cell_type": "code",
   "execution_count": 90,
   "outputs": [],
   "source": [
    "features = df.columns.drop('num_orders')\n",
    "data_tuples = list(zip(features,regressionTree_imp.tolist()))\n",
    "features_importance = pd.DataFrame(data_tuples, columns=['Feature','Value'])\n"
   ],
   "metadata": {
    "collapsed": false,
    "pycharm": {
     "name": "#%%\n"
    }
   }
  },
  {
   "cell_type": "code",
   "execution_count": 91,
   "outputs": [
    {
     "name": "stdout",
     "output_type": "stream",
     "text": [
      "216\n",
      "18\n"
     ]
    }
   ],
   "source": [
    "print(len(features_importance))\n",
    "unimportant_features = features_importance[features_importance['Value'] < .01]\n",
    "features_importance = features_importance[features_importance['Value'] > .01]\n",
    "print(len(features_importance))"
   ],
   "metadata": {
    "collapsed": false,
    "pycharm": {
     "name": "#%%\n"
    }
   }
  },
  {
   "cell_type": "markdown",
   "source": [
    "## Future improvements\n",
    "\n",
    "- Hyperparameter optimization (eg. via Gridsearch)\n",
    "- Feature Engineering using Domain Knowledge and Publicly available Data\n",
    "- Starting with a decent EDA instead of just quickly cleaning and throwing it into some algorithm's\n",
    "- More careful selection of training algoritmns, instead of quasi arbitrarily choosing 3 and see what sticks best looking at computation time and performance\n",
    "- Dimensionality reduction (eg. via PCA)\n",
    "- Only training on the strongest features? \n",
    "1\n"
   ],
   "metadata": {
    "collapsed": false,
    "pycharm": {
     "name": "#%% md\n",
     "is_executing": true
    }
   }
  }
 ],
 "metadata": {
  "kernelspec": {
   "name": "python3",
   "language": "python",
   "display_name": "Python 3"
  },
  "language_info": {
   "codemirror_mode": {
    "name": "ipython",
    "version": 2
   },
   "file_extension": ".py",
   "mimetype": "text/x-python",
   "name": "python",
   "nbconvert_exporter": "python",
   "pygments_lexer": "ipython2",
   "version": "2.7.6"
  }
 },
 "nbformat": 4,
 "nbformat_minor": 0
}